{
 "cells": [
  {
   "cell_type": "code",
   "execution_count": 21,
   "metadata": {},
   "outputs": [],
   "source": [
    "import requests\n",
    "import datetime\n",
    "from datetime import datetime, time, timedelta\n",
    "import numpy as np\n",
    "\n",
    "date_time_format = \"%Y-%m-%dT%H:%M:%S.%fZ\"\n",
    "expiries_url = \"https://live.markethound.in/api/history/expiries?index=NIFTY\"\n",
    "expiry_dates = []\n",
    "\n",
    "# Get expiry dates\n",
    "response = requests.get(expiries_url)\n",
    "data = response.json()\n",
    "for date_str in data['result']:\n",
    "    expiry_dates.append(datetime.strptime(date_str, date_time_format).date())\n",
    "\n",
    "# Filter expiry dates for which we have data\n",
    "today = datetime.strptime(\"2024-03-11T00:00:00.000Z\", date_time_format).date()\n",
    "expiry_dates = [date for date in expiry_dates if date >= today]\n",
    "\n",
    "input_data = {}\n",
    "output_data = {}\n",
    "\n",
    "# Function to fetch data for given expiry date and days to expiry\n",
    "def fetch_data(date, dte):\n",
    "    start_time = datetime.combine(date, time(hour=14, minute=0))\n",
    "    end_time = datetime.combine(date, time(hour=15, minute=0))\n",
    "    current_time = start_time\n",
    "    time_increment = timedelta(minutes=15)\n",
    "    data = []\n",
    "\n",
    "    while current_time <= end_time:\n",
    "        datetime_str = current_time.strftime(date_time_format)\n",
    "        url = f\"https://live.markethound.in/api/history/decay?name=NIFTY&expiry={datetime_str}&dte={dte}\"\n",
    "        response = requests.get(url)\n",
    "        if response.status_code != 200:\n",
    "            break\n",
    "        result = response.json().get('result', [])\n",
    "        if len(result) == 0:\n",
    "            break\n",
    "        price_data = [result[0].get(key, 0) for key in ['open', 'close', 'high', 'low']]\n",
    "        data.append(price_data)\n",
    "        current_time += time_increment\n",
    "\n",
    "    if len(data) != 0:\n",
    "        return np.array(data)\n",
    "    else:\n",
    "        return None\n",
    "\n",
    "# Fetch data for each expiry date\n",
    "for date in expiry_dates:\n",
    "    input_data[date] = fetch_data(date, 3)\n",
    "    output_data[date] = fetch_data(date, 2)\n"
   ]
  },
  {
   "cell_type": "code",
   "execution_count": 22,
   "metadata": {},
   "outputs": [
    {
     "data": {
      "text/plain": [
       "{datetime.date(2024, 3, 14): array([['260.85', '230.55', '260.85', '230.55'],\n",
       "        ['260.85', '230.55', '260.85', '230.55'],\n",
       "        ['260.85', '230.55', '260.85', '230.55'],\n",
       "        ['260.85', '230.55', '260.85', '230.55'],\n",
       "        ['260.85', '230.55', '260.85', '230.55']], dtype='<U6')}"
      ]
     },
     "execution_count": 22,
     "metadata": {},
     "output_type": "execute_result"
    }
   ],
   "source": [
    "input_data"
   ]
  },
  {
   "cell_type": "code",
   "execution_count": 23,
   "metadata": {},
   "outputs": [
    {
     "data": {
      "text/plain": [
       "{datetime.date(2024, 3, 14): array([['220.70', '198.55', '233.15', '195.25'],\n",
       "        ['220.70', '198.55', '233.15', '195.25'],\n",
       "        ['220.70', '198.55', '233.15', '195.25'],\n",
       "        ['220.70', '198.55', '233.15', '195.25'],\n",
       "        ['220.70', '198.55', '233.15', '195.25']], dtype='<U6')}"
      ]
     },
     "execution_count": 23,
     "metadata": {},
     "output_type": "execute_result"
    }
   ],
   "source": [
    "output_data"
   ]
  },
  {
   "cell_type": "markdown",
   "metadata": {},
   "source": [
    "The given data has only one data point for each variable and hence it is not feasible to formulate a ML algorithm to learn the pattern.\n",
    "\n",
    "And hence no algorithm is stated"
   ]
  },
  {
   "cell_type": "markdown",
   "metadata": {},
   "source": []
  }
 ],
 "metadata": {
  "kernelspec": {
   "display_name": "Python 3",
   "language": "python",
   "name": "python3"
  },
  "language_info": {
   "codemirror_mode": {
    "name": "ipython",
    "version": 3
   },
   "file_extension": ".py",
   "mimetype": "text/x-python",
   "name": "python",
   "nbconvert_exporter": "python",
   "pygments_lexer": "ipython3",
   "version": "3.11.3"
  }
 },
 "nbformat": 4,
 "nbformat_minor": 2
}
